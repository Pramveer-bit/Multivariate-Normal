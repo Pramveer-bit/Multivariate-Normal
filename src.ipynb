{
 "cells": [
  {
   "cell_type": "code",
   "execution_count": 25,
   "id": "9b32adf2",
   "metadata": {},
   "outputs": [],
   "source": [
    "import pandas as pd\n",
    "import numpy as np\n",
    "import matplotlib.pyplot as plt"
   ]
  },
  {
   "cell_type": "code",
   "execution_count": 26,
   "id": "6fa718ae",
   "metadata": {},
   "outputs": [],
   "source": [
    "weight = np.random.normal(loc=70, scale=4, size=500)\n",
    "height = (2*weight)+5 + np.random.normal(loc=170, scale=10, size=500)\n",
    "data =pd.DataFrame(data={\"Weight(in kgs)\":weight , \"Height(in cms)\":height})"
   ]
  },
  {
   "cell_type": "code",
   "execution_count": 27,
   "id": "cb815c1a",
   "metadata": {},
   "outputs": [
    {
     "data": {
      "text/html": [
       "<div>\n",
       "<style scoped>\n",
       "    .dataframe tbody tr th:only-of-type {\n",
       "        vertical-align: middle;\n",
       "    }\n",
       "\n",
       "    .dataframe tbody tr th {\n",
       "        vertical-align: top;\n",
       "    }\n",
       "\n",
       "    .dataframe thead th {\n",
       "        text-align: right;\n",
       "    }\n",
       "</style>\n",
       "<table border=\"1\" class=\"dataframe\">\n",
       "  <thead>\n",
       "    <tr style=\"text-align: right;\">\n",
       "      <th></th>\n",
       "      <th>Weight(in kgs)</th>\n",
       "      <th>Height(in cms)</th>\n",
       "    </tr>\n",
       "  </thead>\n",
       "  <tbody>\n",
       "    <tr>\n",
       "      <th>0</th>\n",
       "      <td>65.636484</td>\n",
       "      <td>303.392422</td>\n",
       "    </tr>\n",
       "    <tr>\n",
       "      <th>1</th>\n",
       "      <td>70.558249</td>\n",
       "      <td>318.939030</td>\n",
       "    </tr>\n",
       "    <tr>\n",
       "      <th>2</th>\n",
       "      <td>69.163665</td>\n",
       "      <td>322.990119</td>\n",
       "    </tr>\n",
       "    <tr>\n",
       "      <th>3</th>\n",
       "      <td>69.683281</td>\n",
       "      <td>313.231050</td>\n",
       "    </tr>\n",
       "    <tr>\n",
       "      <th>4</th>\n",
       "      <td>66.112482</td>\n",
       "      <td>303.339515</td>\n",
       "    </tr>\n",
       "    <tr>\n",
       "      <th>...</th>\n",
       "      <td>...</td>\n",
       "      <td>...</td>\n",
       "    </tr>\n",
       "    <tr>\n",
       "      <th>495</th>\n",
       "      <td>70.803234</td>\n",
       "      <td>336.981297</td>\n",
       "    </tr>\n",
       "    <tr>\n",
       "      <th>496</th>\n",
       "      <td>69.761249</td>\n",
       "      <td>310.144135</td>\n",
       "    </tr>\n",
       "    <tr>\n",
       "      <th>497</th>\n",
       "      <td>66.234997</td>\n",
       "      <td>303.466261</td>\n",
       "    </tr>\n",
       "    <tr>\n",
       "      <th>498</th>\n",
       "      <td>73.195751</td>\n",
       "      <td>313.490909</td>\n",
       "    </tr>\n",
       "    <tr>\n",
       "      <th>499</th>\n",
       "      <td>72.705690</td>\n",
       "      <td>314.664142</td>\n",
       "    </tr>\n",
       "  </tbody>\n",
       "</table>\n",
       "<p>500 rows × 2 columns</p>\n",
       "</div>"
      ],
      "text/plain": [
       "     Weight(in kgs)  Height(in cms)\n",
       "0         65.636484      303.392422\n",
       "1         70.558249      318.939030\n",
       "2         69.163665      322.990119\n",
       "3         69.683281      313.231050\n",
       "4         66.112482      303.339515\n",
       "..              ...             ...\n",
       "495       70.803234      336.981297\n",
       "496       69.761249      310.144135\n",
       "497       66.234997      303.466261\n",
       "498       73.195751      313.490909\n",
       "499       72.705690      314.664142\n",
       "\n",
       "[500 rows x 2 columns]"
      ]
     },
     "execution_count": 27,
     "metadata": {},
     "output_type": "execute_result"
    }
   ],
   "source": [
    "data"
   ]
  },
  {
   "cell_type": "code",
   "execution_count": 28,
   "id": "27de57ea",
   "metadata": {},
   "outputs": [
    {
     "data": {
      "text/plain": [
       "0      65.636484\n",
       "1      70.558249\n",
       "2      69.163665\n",
       "3      69.683281\n",
       "4      66.112482\n",
       "         ...    \n",
       "495    70.803234\n",
       "496    69.761249\n",
       "497    66.234997\n",
       "498    73.195751\n",
       "499    72.705690\n",
       "Name: Weight(in kgs), Length: 500, dtype: float64"
      ]
     },
     "execution_count": 28,
     "metadata": {},
     "output_type": "execute_result"
    }
   ],
   "source": [
    "data[\"Weight(in kgs)\"]"
   ]
  },
  {
   "cell_type": "code",
   "execution_count": 29,
   "id": "2d469c2d",
   "metadata": {},
   "outputs": [
    {
     "data": {
      "text/html": [
       "<div>\n",
       "<style scoped>\n",
       "    .dataframe tbody tr th:only-of-type {\n",
       "        vertical-align: middle;\n",
       "    }\n",
       "\n",
       "    .dataframe tbody tr th {\n",
       "        vertical-align: top;\n",
       "    }\n",
       "\n",
       "    .dataframe thead th {\n",
       "        text-align: right;\n",
       "    }\n",
       "</style>\n",
       "<table border=\"1\" class=\"dataframe\">\n",
       "  <thead>\n",
       "    <tr style=\"text-align: right;\">\n",
       "      <th></th>\n",
       "      <th>Weight(in kgs)</th>\n",
       "      <th>Height(in cms)</th>\n",
       "    </tr>\n",
       "  </thead>\n",
       "  <tbody>\n",
       "    <tr>\n",
       "      <th>4</th>\n",
       "      <td>66.112482</td>\n",
       "      <td>303.339515</td>\n",
       "    </tr>\n",
       "    <tr>\n",
       "      <th>5</th>\n",
       "      <td>69.687208</td>\n",
       "      <td>297.455088</td>\n",
       "    </tr>\n",
       "    <tr>\n",
       "      <th>6</th>\n",
       "      <td>69.957872</td>\n",
       "      <td>316.968805</td>\n",
       "    </tr>\n",
       "    <tr>\n",
       "      <th>7</th>\n",
       "      <td>72.021212</td>\n",
       "      <td>325.673567</td>\n",
       "    </tr>\n",
       "    <tr>\n",
       "      <th>8</th>\n",
       "      <td>72.393686</td>\n",
       "      <td>320.895246</td>\n",
       "    </tr>\n",
       "    <tr>\n",
       "      <th>...</th>\n",
       "      <td>...</td>\n",
       "      <td>...</td>\n",
       "    </tr>\n",
       "    <tr>\n",
       "      <th>491</th>\n",
       "      <td>75.508871</td>\n",
       "      <td>347.882463</td>\n",
       "    </tr>\n",
       "    <tr>\n",
       "      <th>492</th>\n",
       "      <td>71.940636</td>\n",
       "      <td>320.884976</td>\n",
       "    </tr>\n",
       "    <tr>\n",
       "      <th>493</th>\n",
       "      <td>73.357211</td>\n",
       "      <td>320.083946</td>\n",
       "    </tr>\n",
       "    <tr>\n",
       "      <th>494</th>\n",
       "      <td>72.092807</td>\n",
       "      <td>317.867225</td>\n",
       "    </tr>\n",
       "    <tr>\n",
       "      <th>495</th>\n",
       "      <td>70.803234</td>\n",
       "      <td>336.981297</td>\n",
       "    </tr>\n",
       "  </tbody>\n",
       "</table>\n",
       "<p>492 rows × 2 columns</p>\n",
       "</div>"
      ],
      "text/plain": [
       "     Weight(in kgs)  Height(in cms)\n",
       "4         66.112482      303.339515\n",
       "5         69.687208      297.455088\n",
       "6         69.957872      316.968805\n",
       "7         72.021212      325.673567\n",
       "8         72.393686      320.895246\n",
       "..              ...             ...\n",
       "491       75.508871      347.882463\n",
       "492       71.940636      320.884976\n",
       "493       73.357211      320.083946\n",
       "494       72.092807      317.867225\n",
       "495       70.803234      336.981297\n",
       "\n",
       "[492 rows x 2 columns]"
      ]
     },
     "execution_count": 29,
     "metadata": {},
     "output_type": "execute_result"
    }
   ],
   "source": [
    "data.iloc[4:496,:]"
   ]
  },
  {
   "cell_type": "markdown",
   "id": "7dd0bb73",
   "metadata": {},
   "source": [
    "before comma is for accessing rows and after comma is for accessing column"
   ]
  },
  {
   "cell_type": "code",
   "execution_count": 30,
   "id": "4c71c9f2",
   "metadata": {},
   "outputs": [
    {
     "data": {
      "text/plain": [
       "<matplotlib.collections.PathCollection at 0x7c2d56409310>"
      ]
     },
     "execution_count": 30,
     "metadata": {},
     "output_type": "execute_result"
    },
    {
     "data": {
      "image/png": "[encoded data removed]",
      "text/plain": [
       "<Figure size 640x480 with 1 Axes>"
      ]
     },
     "metadata": {},
     "output_type": "display_data"
    }
   ],
   "source": [
    "plt.xlabel(\"weight\")\n",
    "plt.ylabel(\"height\")\n",
    "plt.scatter(data[\"Weight(in kgs)\"],data[\"Height(in cms)\"])"
   ]
  },
  {
   "cell_type": "code",
   "execution_count": 31,
   "id": "69f6e388",
   "metadata": {},
   "outputs": [
    {
     "data": {
      "text/html": [
       "<div>\n",
       "<style scoped>\n",
       "    .dataframe tbody tr th:only-of-type {\n",
       "        vertical-align: middle;\n",
       "    }\n",
       "\n",
       "    .dataframe tbody tr th {\n",
       "        vertical-align: top;\n",
       "    }\n",
       "\n",
       "    .dataframe thead th {\n",
       "        text-align: right;\n",
       "    }\n",
       "</style>\n",
       "<table border=\"1\" class=\"dataframe\">\n",
       "  <thead>\n",
       "    <tr style=\"text-align: right;\">\n",
       "      <th></th>\n",
       "      <th>Weight(in kgs)</th>\n",
       "      <th>Height(in cms)</th>\n",
       "    </tr>\n",
       "  </thead>\n",
       "  <tbody>\n",
       "    <tr>\n",
       "      <th>Weight(in kgs)</th>\n",
       "      <td>16.411092</td>\n",
       "      <td>33.893688</td>\n",
       "    </tr>\n",
       "    <tr>\n",
       "      <th>Height(in cms)</th>\n",
       "      <td>33.893688</td>\n",
       "      <td>174.653077</td>\n",
       "    </tr>\n",
       "  </tbody>\n",
       "</table>\n",
       "</div>"
      ],
      "text/plain": [
       "                Weight(in kgs)  Height(in cms)\n",
       "Weight(in kgs)       16.411092       33.893688\n",
       "Height(in cms)       33.893688      174.653077"
      ]
     },
     "execution_count": 31,
     "metadata": {},
     "output_type": "execute_result"
    }
   ],
   "source": [
    "data.cov()"
   ]
  },
  {
   "cell_type": "markdown",
   "id": "d2cdf50f",
   "metadata": {},
   "source": [
    "its a covariance matrix. its a symmetric, square (2*2) matrix.   "
   ]
  }
 ],
 "metadata": {
  "kernelspec": {
   "display_name": ".venv",
   "language": "python",
   "name": "python3"
  },
  "language_info": {
   "codemirror_mode": {
    "name": "ipython",
    "version": 3
   },
   "file_extension": ".py",
   "mimetype": "text/x-python",
   "name": "python",
   "nbconvert_exporter": "python",
   "pygments_lexer": "ipython3",
   "version": "3.12.3"
  }
 },
 "nbformat": 4,
 "nbformat_minor": 5
}
